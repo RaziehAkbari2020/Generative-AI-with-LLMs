{
  "nbformat": 4,
  "nbformat_minor": 0,
  "metadata": {
    "colab": {
      "provenance": []
    },
    "kernelspec": {
      "name": "python3",
      "display_name": "Python 3"
    },
    "language_info": {
      "name": "python"
    }
  },
  "cells": [
    {
      "cell_type": "markdown",
      "source": [
        "## Reflection"
      ],
      "metadata": {
        "id": "eBB-1qWmywQc"
      }
    },
    {
      "cell_type": "markdown",
      "source": [
        "![Untitled11111.png](data:image/png;base64,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)"
      ],
      "metadata": {
        "id": "sbEULseHy66M"
      }
    },
    {
      "cell_type": "markdown",
      "source": [
        "رفلکشن به معنای اینکه شما چند ال ال ام گران داشته باشید و بخواهید از طریق رفلکشن هزینه خود را کاهش دهید\n"
      ],
      "metadata": {
        "id": "PCtNy5T9GHpn"
      }
    },
    {
      "cell_type": "markdown",
      "source": [
        "مثلا مدل اولی ارزان تر و مدل بعدی گران تر یا از دو مدل ارزیان استفاده شود"
      ],
      "metadata": {
        "id": "a1CtpZC0GSGu"
      }
    },
    {
      "cell_type": "code",
      "execution_count": 1,
      "metadata": {
        "colab": {
          "base_uri": "https://localhost:8080/"
        },
        "id": "OUrQZX4fMsJ5",
        "outputId": "f6d18bf5-7cbe-410b-a637-9dbd49d8506b"
      },
      "outputs": [
        {
          "output_type": "stream",
          "name": "stdout",
          "text": [
            "\u001b[?25l   \u001b[90m━━━━━━━━━━━━━━━━━━━━━━━━━━━━━━━━━━━━━━━━\u001b[0m \u001b[32m0.0/135.8 kB\u001b[0m \u001b[31m?\u001b[0m eta \u001b[36m-:--:--\u001b[0m\r\u001b[2K   \u001b[90m━━━━━━━━━━━━━━━━━━━━━━━━━━━━━━━━━━━━━━━━\u001b[0m \u001b[32m135.8/135.8 kB\u001b[0m \u001b[31m8.2 MB/s\u001b[0m eta \u001b[36m0:00:00\u001b[0m\n",
            "\u001b[?25h\u001b[?25l   \u001b[90m━━━━━━━━━━━━━━━━━━━━━━━━━━━━━━━━━━━━━━━━\u001b[0m \u001b[32m0.0/1.0 MB\u001b[0m \u001b[31m?\u001b[0m eta \u001b[36m-:--:--\u001b[0m\r\u001b[2K   \u001b[91m━━━━━━━━━━━━━━━━━━━━━━━━━━━━━━━━━━━━━━━\u001b[0m\u001b[91m╸\u001b[0m \u001b[32m1.0/1.0 MB\u001b[0m \u001b[31m35.5 MB/s\u001b[0m eta \u001b[36m0:00:01\u001b[0m\r\u001b[2K   \u001b[90m━━━━━━━━━━━━━━━━━━━━━━━━━━━━━━━━━━━━━━━━\u001b[0m \u001b[32m1.0/1.0 MB\u001b[0m \u001b[31m15.0 MB/s\u001b[0m eta \u001b[36m0:00:00\u001b[0m\n",
            "\u001b[2K   \u001b[90m━━━━━━━━━━━━━━━━━━━━━━━━━━━━━━━━━━━━━━━━\u001b[0m \u001b[32m1.2/1.2 MB\u001b[0m \u001b[31m13.0 MB/s\u001b[0m eta \u001b[36m0:00:00\u001b[0m\n",
            "\u001b[2K   \u001b[90m━━━━━━━━━━━━━━━━━━━━━━━━━━━━━━━━━━━━━━━━\u001b[0m \u001b[32m44.3/44.3 kB\u001b[0m \u001b[31m1.9 MB/s\u001b[0m eta \u001b[36m0:00:00\u001b[0m\n",
            "\u001b[2K   \u001b[90m━━━━━━━━━━━━━━━━━━━━━━━━━━━━━━━━━━━━━━━━\u001b[0m \u001b[32m2.5/2.5 MB\u001b[0m \u001b[31m19.2 MB/s\u001b[0m eta \u001b[36m0:00:00\u001b[0m\n",
            "\u001b[2K   \u001b[90m━━━━━━━━━━━━━━━━━━━━━━━━━━━━━━━━━━━━━━━━\u001b[0m \u001b[32m249.9/249.9 kB\u001b[0m \u001b[31m14.7 MB/s\u001b[0m eta \u001b[36m0:00:00\u001b[0m\n",
            "\u001b[2K   \u001b[90m━━━━━━━━━━━━━━━━━━━━━━━━━━━━━━━━━━━━━━━━\u001b[0m \u001b[32m410.6/410.6 kB\u001b[0m \u001b[31m19.8 MB/s\u001b[0m eta \u001b[36m0:00:00\u001b[0m\n",
            "\u001b[2K   \u001b[90m━━━━━━━━━━━━━━━━━━━━━━━━━━━━━━━━━━━━━━━━\u001b[0m \u001b[32m209.0/209.0 kB\u001b[0m \u001b[31m14.5 MB/s\u001b[0m eta \u001b[36m0:00:00\u001b[0m\n",
            "\u001b[2K   \u001b[90m━━━━━━━━━━━━━━━━━━━━━━━━━━━━━━━━━━━━━━━━\u001b[0m \u001b[32m3.1/3.1 MB\u001b[0m \u001b[31m44.7 MB/s\u001b[0m eta \u001b[36m0:00:00\u001b[0m\n",
            "\u001b[2K   \u001b[90m━━━━━━━━━━━━━━━━━━━━━━━━━━━━━━━━━━━━━━━━\u001b[0m \u001b[32m49.5/49.5 kB\u001b[0m \u001b[31m3.5 MB/s\u001b[0m eta \u001b[36m0:00:00\u001b[0m\n",
            "\u001b[?25h"
          ]
        }
      ],
      "source": [
        "!pip install -U --quiet  langgraph langchain tiktoken langchain_cohere langchain-community"
      ]
    },
    {
      "cell_type": "code",
      "source": [
        "from langchain_cohere import ChatCohere\n",
        "from langchain.schema import SystemMessage, HumanMessage,AIMessage, StrOutputParser\n",
        "from langchain.prompts import PromptTemplate, ChatPromptTemplate, MessagesPlaceholder\n",
        "from langchain_core.output_parsers import (StrOutputParser)\n",
        "from langgraph.graph import StateGraph, END, START\n",
        "from langchain_core.prompts import ChatPromptTemplate\n",
        "from langchain_core.pydantic_v1 import BaseModel, Field\n",
        "from langchain_core.messages import HumanMessage\n",
        "from langchain_core.prompts import MessagesPlaceholder\n",
        "from typing import List, TypedDict"
      ],
      "metadata": {
        "id": "WwzBrp2fO5oR"
      },
      "execution_count": 64,
      "outputs": []
    },
    {
      "cell_type": "code",
      "source": [
        "import os\n",
        "import getpass\n",
        "\n",
        "os.environ[\"COHERE_API_KEY\"] = getpass.getpass()\n",
        "# cohere_api_key=\"fN89ssKb6Le1pVnUwecj0cFCZBUy4WOE1roZ4rJL\"\n",
        "\n",
        "from langchain_cohere import CohereEmbeddings\n",
        "\n",
        "embedding = CohereEmbeddings(model=\"embed-english-v3.0\")\n",
        "llm = ChatCohere(cohere_api_key=cohere_api_key)\n"
      ],
      "metadata": {
        "id": "5dJI8Al4QRU8",
        "colab": {
          "base_uri": "https://localhost:8080/"
        },
        "outputId": "be0d92c3-a13c-43e8-fa86-9231509b55ff"
      },
      "execution_count": 20,
      "outputs": [
        {
          "name": "stdout",
          "output_type": "stream",
          "text": [
            "··········\n"
          ]
        }
      ]
    },
    {
      "cell_type": "code",
      "source": [
        "prompt = ChatPromptTemplate.from_messages([\n",
        "    (\"system\", \"\"\"Perform a sentiment analysis on the provided news. If the user provides feedback, respond only with a revised version of your initial attempt, nothing else.\"\"\"),\n",
        "    MessagesPlaceholder(variable_name=\"messages\") ### دلیل تعریفش اینه اینجا که چون قراره فیدبک و جواب خودشون دوباره به مدل بدیم باید جایی باشه که این نتیجه به اضافه فیدبک بره اونجا بشینه\n",
        "])\n",
        "\n",
        "\n",
        "chain = prompt | llm | StrOutputParser()\n",
        "user_messages = [{\"role\": \"user\", \"content\": \"Here's the news about the stock: The stock has been rising steadily in the past few weeks.\"}]\n",
        "\n"
      ],
      "metadata": {
        "id": "N6UHbrq7QgQs"
      },
      "execution_count": 21,
      "outputs": []
    },
    {
      "cell_type": "code",
      "source": [
        "def generation(llm):\n",
        "  prompt = ChatPromptTemplate.from_messages(\n",
        "    [(\"system\",\"\"\"Perform a sentiment analysis on the provided news. If the user provides feedback, respond only with a revised version of your initial attempt,nothing else\"\"\"),MessagesPlaceholder(variable_name=\"messages\")])\n",
        "  generate = prompt | llm | StrOutputParser()\n",
        "  return generate"
      ],
      "metadata": {
        "id": "hmZo0bb1QkwX"
      },
      "execution_count": 22,
      "outputs": []
    },
    {
      "cell_type": "code",
      "source": [
        "text = \"\"\"به گزارش بورس نیوز، شرکت توسعه سامانه‌های نرم افزاری نگین از برگزاری مجمع عمومی عادی سالیانه خبر داد.\n",
        "\n",
        "بر این اساس، این شرکت اعلام کرد، از کلیه سهامداران، وکیل یا قائم مقام قانونی صاحب سهم و همچنین نماینده یا نمایندگان اشخاص حقوقی دعوت می شود تا در جلسه مجمع عمومی این شرکت که در ساعت ۰۹:۳۰ روز یکشنبه مورخ ۱۴۰۳/۰۱/۱۹ در استان تهران، شهر تهران به آدرس خیابان ولیعصر - نرسیده به پل پارک وی - حد فاصل خیابان تورج و خیابان خاکزاد - مجموعه فرهنگی و ورزشی تلاش حضور بهم رسانند.\n",
        "\n",
        "لازم به ذکر است\"\"\"\n",
        "stock = \"نگین\""
      ],
      "metadata": {
        "id": "Nweddj7zQnnb"
      },
      "execution_count": 23,
      "outputs": []
    },
    {
      "cell_type": "code",
      "source": [
        "gen_chain=generation(llm)\n",
        "human_message_order = HumanMessage(content=f\"\"\"\n",
        "solely Focuse on the sentiment reflected only by the terms related to the influence of the news on the rising or declining price of the {stock}\n",
        "  while disregarding any other irrelevant information, such as historical events, social aspects, or unrelated congratulatory or condolences messages.  Please 'ONLY' output 'one' sentiment from [Positive / Neutral / Negative ] alongside with the reasoning. news:{text}, stock:{stock}\"\"\")\n",
        "messages = [human_message_order]\n",
        "gen_chain.invoke({'text':text, 'stock':stock, 'messages':messages})"
      ],
      "metadata": {
        "colab": {
          "base_uri": "https://localhost:8080/",
          "height": 52
        },
        "id": "zebi0HzBQpie",
        "outputId": "bcd19f1f-a60a-41c7-f20a-3651d1303620"
      },
      "execution_count": 24,
      "outputs": [
        {
          "output_type": "execute_result",
          "data": {
            "text/plain": [
              "'**Sentiment:** Neutral.\\n\\nThe news primarily announces the annual general meeting of the company, providing logistical details for shareholders and representatives. While it may indicate routine corporate proceedings, there is no explicit mention of any positive or negative impact on the stock price.'"
            ],
            "application/vnd.google.colaboratory.intrinsic+json": {
              "type": "string"
            }
          },
          "metadata": {},
          "execution_count": 24
        }
      ]
    },
    {
      "cell_type": "code",
      "source": [
        "text = \"\"\"به گزارش بورس نیوز، ​محسن سیفی، مدیرعامل بانک صادرات ایران با صدور پیامی درگذشت دکتر رضا دولت‌آبادی، مدیرعامل بانک ملت و از چهره‌های ماندگار نظام بانکی را تسلیت گفت.\n",
        "    ​\n",
        "    در پیام محسن سیفی آمده است:\n",
        "    ​\n",
        "    «کل من علی‌ها فان و یبقی وجه ربک ذوالجلال و الاکرام»\n",
        "    ​\n",
        "    درگذشت مدیرعامل فقید بانک ملت و چهره ماندگار و تأثیرگذار شبکه بانکی کشور، جناب آقای رضا دولت‌آبادی، موجب اندوه و تأسف قلبی همه مدیران و کارکنان شبکه بانکی کشور شد.\n",
        "    ​\n",
        "    این چهره برجسته نظام بانکی کشور با صداقت، مسئولیت‌پذیری، اهتمام و همدلی، منشأ خیرات و برکات فراوان در اقتصاد کشور شد و نام نیک او در خاطر همه ما جاودانه خواهد ماند.\n",
        "    ​\n",
        "    اینجانب ضمن تسلیت به خانواده گرامی ایشان، کارکنان محترم شبکه بانکی و همکاران معظم بانک ملت، از درگاه خداوند متعال، برای روح آن مرحوم مغفرت الهی و برای اعضای خانواده، بازماندگان، دوستان و همکاران ایشان صبر و شکیبایی مسئلت دارم.\n",
        "    ​\n",
        "    محسن سیفی_ ​مدیرعامل بانک صادرات ایران\"\"\"\n",
        "stock = \"بانک ملت\""
      ],
      "metadata": {
        "id": "_vGCzJsiQtfC"
      },
      "execution_count": 25,
      "outputs": []
    },
    {
      "cell_type": "code",
      "source": [
        "gen_chain = generation(llm)\n",
        "human_message_order = HumanMessage(content=f\"\"\"\n",
        "solely Focuse on the sentiment reflected only by the terms related to the influence of the news on the rising or declining price of the {stock}\n",
        "choose sentiment from [Positive / Neutral / Negative ] alongside with the reasoning. news:{text}, stock:{stock}\"\"\")\n",
        "messages = [human_message_order]\n",
        "gen_chain.invoke({'text':text, 'stock':stock, 'messages':messages})"
      ],
      "metadata": {
        "colab": {
          "base_uri": "https://localhost:8080/",
          "height": 87
        },
        "id": "c_9AiIv4QvZa",
        "outputId": "2a93613c-e4dd-4179-92b2-bbd75c4abe67"
      },
      "execution_count": 26,
      "outputs": [
        {
          "output_type": "execute_result",
          "data": {
            "text/plain": [
              "\"Sentiment: Neutral.\\n\\nReasoning: The news article reports on the passing of the CEO of Bank Mellat, Dr. Reza Dowlatabadi, and expresses condolences from the CEO of Bank Saderat Iran, Mohsen Seyfi. While the message acknowledges the late CEO's significant contributions to the banking system and his positive qualities, it does not directly mention any impact on the stock price of Bank Mellat. The sentiment remains neutral regarding the stock price as it focuses on offering condolences and remembering the deceased's legacy.\""
            ],
            "application/vnd.google.colaboratory.intrinsic+json": {
              "type": "string"
            }
          },
          "metadata": {},
          "execution_count": 26
        }
      ]
    },
    {
      "cell_type": "code",
      "source": [
        "gen_chain = generation(llm)\n",
        "human_message_order = HumanMessage(content=f\"\"\"\n",
        "solely Focuse on the sentiment reflected only by the terms related to the influence of the news on the rising or declining price of the {stock}\n",
        "choose sentiment from [Positive / Neutral / Negative ] with only say the sentiment with one word. news:{text}, stock:{stock}\"\"\")\n",
        "messages = [human_message_order]\n",
        "gen_chain.invoke({'text':text, 'stock':stock, 'messages':messages})"
      ],
      "metadata": {
        "colab": {
          "base_uri": "https://localhost:8080/",
          "height": 35
        },
        "id": "pu7P1A9UQzZA",
        "outputId": "2c2c2053-b1dc-4c00-8aa2-98d41355db32"
      },
      "execution_count": 27,
      "outputs": [
        {
          "output_type": "execute_result",
          "data": {
            "text/plain": [
              "'Neutral'"
            ],
            "application/vnd.google.colaboratory.intrinsic+json": {
              "type": "string"
            }
          },
          "metadata": {},
          "execution_count": 27
        }
      ]
    },
    {
      "cell_type": "code",
      "source": [
        "text = \"\"\"به گزارش بورس نیوز،  در متن پیام وی آمده است:\n",
        "    ​\n",
        "    پیروزی انقلاب اسلامی مرهون خون شهیدانی است که دلاورانه در مقابل ستم پیشگان ایستادند و با نثار خونشان درخت انقلاب را آبیاری کردند و امروز ایران اسلامی به برکت خون آن‌ها و رادمردی‌های مردان و زنان در تلاش و مؤمن، طی بیش از چهار دهه، شاهد شکوفایی در تمامی عرصه‌های مختلف اقتصادی، اجتماعی، فرهنگی و هنری بر پایه آموزه‌های اسلامی است و مسیر موفقیت کشور با رهبری مقام معظم رهبری همچنان افق‌های تازه‌ای را در سطح جهانی طی می‌کند.\n",
        "    ​\n",
        "    ۱۲ بهمن یادآور خاطره بازگشت بنیانگذار و معمار فرزانه انقلاب اسلامی امام خمینی (ره) به ایران، همه ساله آغاز دهه مبارک فجر و روز‌های به ثمر رسیدن انقلاب اسلامی است.\n",
        "    ​\n",
        "    من فرارسیدن این روز و یوم‌الله دهه مبارک فجر را به عموم مردم ایران، کارکنان نظام بانکی به ویژه همکاران بانک صادرات ایران تبریک عرض می‌کنم. بانک صادرات ایران در مسیر پایمردی برای حفظ ارزش‌های انقلاب و کمک به تحقق اهداف اقتصادی در کنار مردم و مسئولان دلسوز کشور ایستاده و همچون همیشه از تمامی ظرفیت‌های خود استفاده خواهد کرد.\"\"\"\n",
        "stock = \"صادرات ایران\""
      ],
      "metadata": {
        "id": "thFL__gwQz8P"
      },
      "execution_count": 28,
      "outputs": []
    },
    {
      "cell_type": "code",
      "source": [
        "from typing import Optional\n",
        "\n",
        "from langchain_core.prompts import ChatPromptTemplate\n",
        "from langchain_core.pydantic_v1 import BaseModel, Field\n",
        "from pydantic import BaseModel\n",
        "class SentimentAnalyser(BaseModel):\n",
        "    '''Identifying information about news sentiment.'''\n",
        "\n",
        "    sentiment: str = Field(..., description=\"the sentiment of news, only can be one of [neutral, positive, negative]\")"
      ],
      "metadata": {
        "id": "5gdI-AcWQ8Lj"
      },
      "execution_count": 37,
      "outputs": []
    },
    {
      "cell_type": "code",
      "source": [
        "gen_chain = generation(llm)\n",
        "\n",
        "human_message_order = HumanMessage(content=f\"\"\"\n",
        "solely Focuse on the sentiment reflected only by the terms related to the influence of the news on the rising or declining price of the {stock}\n",
        "choose sentiment from [Positive / Neutral / Negative ] alongside with the reasoning. news:{text}, stock:{stock}\"\"\")\n",
        "messages = [human_message_order]\n",
        "generate=prompt | llm.with_structured_output(SentimentAnalyser)\n",
        "\n",
        "SENTIMENT_ANALYSIS= generate.invoke({'messages':messages})\n",
        "SENTIMENT_ANALYSIS\n",
        "\n"
      ],
      "metadata": {
        "colab": {
          "base_uri": "https://localhost:8080/"
        },
        "id": "qMtZg0qzQ93X",
        "outputId": "0ee42cb6-5cef-4da0-fb7a-638e1009fbdf"
      },
      "execution_count": 40,
      "outputs": [
        {
          "output_type": "stream",
          "name": "stderr",
          "text": [
            "/usr/local/lib/python3.10/dist-packages/pydantic/json_schema.py:2285: PydanticJsonSchemaWarning: Default value default=Ellipsis description='the sentiment of news, only can be one of [neutral, positive, negative]' extra={} is not JSON serializable; excluding default from JSON schema [non-serializable-default]\n",
            "  warnings.warn(message, PydanticJsonSchemaWarning)\n"
          ]
        },
        {
          "output_type": "execute_result",
          "data": {
            "text/plain": [
              "SentimentAnalyser(sentiment='Positive')"
            ]
          },
          "metadata": {},
          "execution_count": 40
        }
      ]
    },
    {
      "cell_type": "code",
      "source": [
        "class Judge(BaseModel):\n",
        "    '''Assessment of agreement between the advisor's and the analyst's views on the stock as reflected in the analyzed news.'''\n",
        "    agreement: str = Field(..., description=\"Specifies if the advisor agrees with the provided sentiment or not. Possible values are [yes, no].\")\n",
        "    reasoning: str = Field(..., description=\"return the reasoning behind the agreement or disagreement\")"
      ],
      "metadata": {
        "id": "1KkPSyiqREEh"
      },
      "execution_count": 31,
      "outputs": []
    },
    {
      "cell_type": "code",
      "source": [
        "reflection_prompt = ChatPromptTemplate.from_messages(\n",
        "    [(\"system\",\"\"\"Your task is to review the sentiment analysis results for the news article about {stock}.\n",
        "1. Assess whether the sentiment (Positive, Neutral, or Negative) accurately reflects the impact of the news on the stock's price movement.\n",
        "2. Ensure the sentiment analysis considers only factors relevant to the stock's price movement, disregarding any irrelevant details like historical events or social aspects.3. Clearly mention that you agree or disagree with the sentiment analysis results for {stock} and your opinion.\n",
        "Please note:\n",
        "- Sentiment must be one of the following: Positive, Neutral, or Negative. it can not be undetermined.\n",
        "- Specify your agreement or disagreement solely with the sentiment, not its reasoning.- Ensure the sentiment analysis is based solely on the price movement of {stock}.\n",
        "News: {text}\n",
        "Stock: {stock},\n",
        "sentiment: {sentiment}\"\"\"),MessagesPlaceholder(variable_name=\"messages\"),])"
      ],
      "metadata": {
        "id": "EokmtVTYRIbg"
      },
      "execution_count": 32,
      "outputs": []
    },
    {
      "cell_type": "code",
      "source": [
        "reflect = reflection_prompt | llm.with_structured_output(Judge)\n",
        "reflection = reflect.invoke({\"messages\": messages, 'text':text, 'stock':stock, 'sentiment':f\"sentiment twords the {stock} is {SENTIMENT_ANALYSIS.sentiment}\"})\n",
        "reflection"
      ],
      "metadata": {
        "id": "-TgB1fa_RKEk",
        "colab": {
          "base_uri": "https://localhost:8080/"
        },
        "outputId": "366b49fc-b42b-454b-8b70-1d9faffb8bf1"
      },
      "execution_count": 33,
      "outputs": [
        {
          "output_type": "stream",
          "name": "stderr",
          "text": [
            "/usr/local/lib/python3.10/dist-packages/pydantic/json_schema.py:2285: PydanticJsonSchemaWarning: Default value default=Ellipsis description='Specifies if the advisor agrees with the provided sentiment or not. Possible values are [yes, no].' extra={} is not JSON serializable; excluding default from JSON schema [non-serializable-default]\n",
            "  warnings.warn(message, PydanticJsonSchemaWarning)\n",
            "/usr/local/lib/python3.10/dist-packages/pydantic/json_schema.py:2285: PydanticJsonSchemaWarning: Default value default=Ellipsis description='return the reasoning behind the agreement or disagreement' extra={} is not JSON serializable; excluding default from JSON schema [non-serializable-default]\n",
            "  warnings.warn(message, PydanticJsonSchemaWarning)\n"
          ]
        }
      ]
    },
    {
      "cell_type": "markdown",
      "source": [
        "\n",
        "### **Multi Agents with Langraph**\n",
        "\n"
      ],
      "metadata": {
        "id": "On2HBNAHlqQ0"
      }
    },
    {
      "cell_type": "markdown",
      "source": [
        "حالا باید کاری کنیم که داخل این لوپ نیفتیم و اینجاست که از مولتی ایجنتها و لنگراف استفاده میشه"
      ],
      "metadata": {
        "id": "fs7phaJhaPCB"
      }
    },
    {
      "cell_type": "markdown",
      "source": [
        "از انالیزر به رفلکتور میشه یال EDG\n",
        "حالا اگر رفلکتور تایید کرد میره 3 و این یال نو سه کاندیشنال ادج هست"
      ],
      "metadata": {
        "id": "O7eHN_9xaPke"
      }
    },
    {
      "cell_type": "markdown",
      "source": [
        "از 2 به 1 و از 3 به 2 کاندیشنال ادج هست\n",
        "ولی از یک به 2 که حتما ران میشه ادج هست"
      ],
      "metadata": {
        "id": "Zn_4BAxYaWVV"
      }
    },
    {
      "cell_type": "markdown",
      "source": [
        "این سایت رای کپی پیست کردن کد\n",
        "https://dpaste.org/"
      ],
      "metadata": {
        "id": "Q52PGGyFaZ3k"
      }
    },
    {
      "cell_type": "markdown",
      "source": [
        "State\n",
        "چیزیه که بین نودها جا به جا میشه"
      ],
      "metadata": {
        "id": "Xq9VFKogac-E"
      }
    },
    {
      "cell_type": "code",
      "source": [
        "class SentimentAnalyser(BaseModel): ## برای جنریتوره\n",
        "    '''Identifying information about news sentiment.'''\n",
        "    sentiment: str = Field(..., description=\"The sentiment of news, only can be one of [neutral, positive, negative]\")\n",
        "\n",
        "class Judge(BaseModel):  ### برای رفلکتوره\n",
        "    '''Assessment of agreement between the advisor's and the analyst's views on the stock as reflected in the analyzed news.'''\n",
        "    agreement: str = Field(..., description=\"Specifies if the advisor agrees with the provided sentiment or not. Possible values are [yes, no].\") ### اره یا نه باعث میشه داخل لوپ الکی نیفتیم\n",
        "    reasoning: str = Field(..., description=\"Return the reasoning behind the agreement or disagreement\") ### IF تعریف شه که اگر مخالف بود به همراه ریزنینگ به اولیه داده بشه\n",
        "\n",
        "# Define models\n",
        "llm = ChatOpenAI(model=\"gpt-4o-mini\")\n",
        "# Define prompts\n",
        "sentiment_prompt = ChatPromptTemplate.from_messages([\n",
        "    (\"system\", \"\"\"\n",
        "    Perform a sentiment analysis on the provided news about {stock}. Focus solely on the sentiment reflected by the terms related to the influence of the news on the rising or declining price of the stock, while disregarding any other irrelevant information, such as historical events, social aspects, or unrelated congratulatory or condolences messages.\n",
        "    Perform a sentiment analysis on the provided news. Focus solely on the sentiment reflected only\n",
        "    by the terms related to the influence of the news on the rising or declining price of the {stock},\n",
        "     while disregarding any other irrelevant information such as historical events, social aspects,\n",
        "      or unrelated congratulatory or condolences messages.\n",
        "            News: {text}\n",
        "            stock: {stock}\n",
        "            Please 'ONLY' output 'one' sentiment from [Positive / Neutral / Negative ] alongside the reasoning.\n",
        "    \"\"\"),\n",
        "    MessagesPlaceholder(variable_name=\"messages\")\n",
        "])\n",
        "\n",
        "reflection_prompt = ChatPromptTemplate.from_messages([\n",
        "    (\"system\", \"\"\"\n",
        "    Your task is to review the sentiment analysis results for the news article about {stock}.\n",
        "    1. Assess whether the sentiment (Positive, Neutral, or Negative) accurately reflects the impact of the news on the stock's price movement.\n",
        "    2. Ensure the sentiment analysis considers only factors relevant to the stock's price movement, disregarding any irrelevant details like historical events or social aspects.\n",
        "    3. Clearly mention that you agree or disagree with the sentiment analysis results for {stock} and your opinion.\n",
        "    Please note:\n",
        "    - Sentiment must be one of the following: Positive, Neutral, or Negative. It cannot be undetermined.\n",
        "    - Specify your agreement or disagreement solely with the sentiment, not its reasoning.\n",
        "    - Ensure the sentiment analysis is based solely on the price movement of {stock}.\n",
        "    News: {text}\n",
        "    Stock: {stock}\n",
        "    Sentiment: {sentiment}\n",
        "    \"\"\"),\n",
        "    MessagesPlaceholder(variable_name=\"messages\")\n",
        "])\n"
      ],
      "metadata": {
        "id": "zffo4zc8le1p"
      },
      "execution_count": null,
      "outputs": []
    },
    {
      "cell_type": "code",
      "source": [
        "generate_node = sentiment_prompt | llm.with_structured_output(SentimentAnalyser)\n",
        "reflect_node = reflection_prompt | llm.with_structured_output(Judge)\n",
        "\n",
        "# Graph definition\n",
        "class GraphState(TypedDict):\n",
        "    iteration: int\n",
        "    sentiment: str\n",
        "    agreement: str\n",
        "    messages: List\n",
        "    stock_name: str\n",
        "    news_text: str\n",
        "\n",
        "graph = StateGraph(GraphState)\n",
        "\n",
        "def generate_sentiment(state):\n",
        "    state['iteration'] += 1\n",
        "    state['sentiment'] = generate_node.invoke({\"messages\": state[\"messages\"], \"stock\": state['stock_name'], \"text\": state['news_text']}).sentiment\n",
        "    return state\n",
        "\n",
        "def reflect_sentiment(state):\n",
        "    reflection_input = {\n",
        "        \"messages\": state[\"messages\"],\n",
        "        \"stock\": state['stock_name'],\n",
        "        \"text\": state['news_text'],\n",
        "        \"sentiment\": state['sentiment']\n",
        "    }\n",
        "    response = reflect_node.invoke(reflection_input)\n",
        "    state['agreement'] = response.agreement\n",
        "    state['messages'].append(HumanMessage(content=f\"The sentiment analysis for {state['stock_name']} resulted in an agreement status of '{response.agreement}'. Here is the reasoning provided: {response.reasoning}\"))\n",
        "    state['agreement'] = response.agreement\n",
        "    return state\n",
        "\n",
        "def should_continue(state):\n",
        "    if state['agreement'] == 'yes' or state['iteration'] >= state.get(\"max_iterations\", 5):\n",
        "        return END\n",
        "    return \"generate_sentiment\"\n",
        "\n",
        "# Add nodes\n",
        "\n",
        "graph.add_node(\"generate_sentiment\", generate_sentiment)\n",
        "graph.add_node(\"reflect_sentiment\", reflect_sentiment)\n",
        "\n",
        "# Define flow\n",
        "graph.add_edge(START, \"generate_sentiment\")\n",
        "\n",
        "graph.add_edge(\"generate_sentiment\", \"reflect_sentiment\")\n",
        "graph.add_conditional_edges(\"reflect_sentiment\", should_continue, {\n",
        "    END: END,\n",
        "    \"generate_sentiment\": \"generate_sentiment\"\n",
        "})\n",
        "\n",
        "# Compile graph\n",
        "app = graph.compile()\n",
        "\n",
        "# Invocation\n",
        "initial_state = {\n",
        "    \"messages\":[],\n",
        "    \"iteration\": 0,\n",
        "    \"max_iterations\": 7,\n",
        "    \"stock_name\": stock,\n",
        "    \"news_text\": text\n",
        "}\n",
        "final_state = app.invoke(initial_state)\n"
      ],
      "metadata": {
        "id": "GTkCG4bNaqFt"
      },
      "execution_count": 55,
      "outputs": []
    },
    {
      "cell_type": "code",
      "source": [
        "final_state"
      ],
      "metadata": {
        "id": "SCtGRvu7aiU_"
      },
      "execution_count": null,
      "outputs": []
    }
  ]
}